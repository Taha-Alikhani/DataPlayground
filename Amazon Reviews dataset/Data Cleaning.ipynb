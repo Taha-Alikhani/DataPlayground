{
 "cells": [
  {
   "cell_type": "markdown",
   "id": "50ac6188-b828-4abe-b4c0-e5096a83a207",
   "metadata": {},
   "source": [
    "## Data Cleaning and Preparation"
   ]
  },
  {
   "cell_type": "markdown",
   "id": "37eef722-7e51-44c0-971b-1eb36f1da44b",
   "metadata": {},
   "source": [
    "- Removing duplicate data\n",
    "- Handling missing info and blank cells\n",
    "- Typing\n",
    "- ..."
   ]
  },
  {
   "cell_type": "code",
   "execution_count": 1,
   "id": "d4e72f85-908c-4b76-acde-50da90f9db35",
   "metadata": {},
   "outputs": [],
   "source": [
    "# Imports\n",
    "import numpy as np\n",
    "import pandas as pd\n",
    "import matplotlib.pyplot as plt"
   ]
  },
  {
   "cell_type": "code",
   "execution_count": 2,
   "id": "7e2d5adf-c5b1-4541-b3f4-5a7285726f9a",
   "metadata": {},
   "outputs": [
    {
     "data": {
      "text/html": [
       "<div>\n",
       "<style scoped>\n",
       "    .dataframe tbody tr th:only-of-type {\n",
       "        vertical-align: middle;\n",
       "    }\n",
       "\n",
       "    .dataframe tbody tr th {\n",
       "        vertical-align: top;\n",
       "    }\n",
       "\n",
       "    .dataframe thead th {\n",
       "        text-align: right;\n",
       "    }\n",
       "</style>\n",
       "<table border=\"1\" class=\"dataframe\">\n",
       "  <thead>\n",
       "    <tr style=\"text-align: right;\">\n",
       "      <th></th>\n",
       "      <th>product_id</th>\n",
       "      <th>product_name</th>\n",
       "      <th>category</th>\n",
       "      <th>discounted_price</th>\n",
       "      <th>actual_price</th>\n",
       "      <th>discount_percentage</th>\n",
       "      <th>rating</th>\n",
       "      <th>rating_count</th>\n",
       "      <th>about_product</th>\n",
       "      <th>user_id</th>\n",
       "      <th>user_name</th>\n",
       "      <th>review_id</th>\n",
       "      <th>review_title</th>\n",
       "      <th>review_content</th>\n",
       "      <th>img_link</th>\n",
       "      <th>product_link</th>\n",
       "    </tr>\n",
       "  </thead>\n",
       "  <tbody>\n",
       "    <tr>\n",
       "      <th>0</th>\n",
       "      <td>B002PD61Y4</td>\n",
       "      <td>D-Link DWA-131 300 Mbps Wireless Nano USB Adap...</td>\n",
       "      <td>Computers&amp;Accessories|NetworkingDevices|Networ...</td>\n",
       "      <td>₹507</td>\n",
       "      <td>₹1,208</td>\n",
       "      <td>58%</td>\n",
       "      <td>4.1</td>\n",
       "      <td>8,131</td>\n",
       "      <td>Connects your computer to a high-speed wireles...</td>\n",
       "      <td>AGA2PZGWMQIRA46VYOTICFE7KCBA,AHI2QJ4CLTCQWACDI...</td>\n",
       "      <td>nilesh,EAGLE,Manoj KNS,Titus P.,Paras singla,a...</td>\n",
       "      <td>R2EJIN3N3L3XKI,R2JMJ8QNG66LV4,R3B46JNPC2T4E7,R...</td>\n",
       "      <td>good tool to use for,Brand is always good,Over...</td>\n",
       "      <td>good quality tool from d linkWiFi signal is go...</td>\n",
       "      <td>https://m.media-amazon.com/images/I/31+NwZ8gb1...</td>\n",
       "      <td>https://www.amazon.in/D-Link-DWA-131-Wireless-...</td>\n",
       "    </tr>\n",
       "    <tr>\n",
       "      <th>1</th>\n",
       "      <td>B002PD61Y4</td>\n",
       "      <td>D-Link DWA-131 300 Mbps Wireless Nano USB Adap...</td>\n",
       "      <td>Computers&amp;Accessories|NetworkingDevices|Networ...</td>\n",
       "      <td>₹507</td>\n",
       "      <td>₹1,208</td>\n",
       "      <td>58%</td>\n",
       "      <td>4.1</td>\n",
       "      <td>8,131</td>\n",
       "      <td>Connects your computer to a high-speed wireles...</td>\n",
       "      <td>AGA2PZGWMQIRA46VYOTICFE7KCBA,AHI2QJ4CLTCQWACDI...</td>\n",
       "      <td>nilesh,EAGLE,Manoj KNS,Titus P.,Paras singla,a...</td>\n",
       "      <td>R2EJIN3N3L3XKI,R2JMJ8QNG66LV4,R3B46JNPC2T4E7,R...</td>\n",
       "      <td>good tool to use for,Brand is always good,Over...</td>\n",
       "      <td>good quality tool from d linkWiFi signal is go...</td>\n",
       "      <td>https://m.media-amazon.com/images/W/WEBP_40237...</td>\n",
       "      <td>https://www.amazon.in/D-Link-DWA-131-Wireless-...</td>\n",
       "    </tr>\n",
       "    <tr>\n",
       "      <th>2</th>\n",
       "      <td>B002SZEOLG</td>\n",
       "      <td>TP-Link Nano USB WiFi Dongle 150Mbps High Gain...</td>\n",
       "      <td>Computers&amp;Accessories|NetworkingDevices|Networ...</td>\n",
       "      <td>₹749</td>\n",
       "      <td>₹1,339</td>\n",
       "      <td>44%</td>\n",
       "      <td>4.2</td>\n",
       "      <td>1,79,692</td>\n",
       "      <td>150 Mbps Wi-Fi —— Exceptional wireless speed u...</td>\n",
       "      <td>AGV3IEFANZCKECFGUM42MRH5FNOA,AEBO7NWCNXKT4AESA...</td>\n",
       "      <td>Azhar JuMan,Anirudh Sood,Hari Krishnan PS,Akas...</td>\n",
       "      <td>R1LW6NWSVTVZ2H,R3VR5WFKUS15C5,R2F6GC79OYWUKQ,R...</td>\n",
       "      <td>Works on linux for me. Get the model with ante...</td>\n",
       "      <td>I use this to connect an old PC to internet. I...</td>\n",
       "      <td>https://m.media-amazon.com/images/I/31Wb+A3VVd...</td>\n",
       "      <td>https://www.amazon.in/TP-Link-TL-WN722N-150Mbp...</td>\n",
       "    </tr>\n",
       "    <tr>\n",
       "      <th>3</th>\n",
       "      <td>B003B00484</td>\n",
       "      <td>Duracell Plus AAA Rechargeable Batteries (750 ...</td>\n",
       "      <td>Electronics|GeneralPurposeBatteries&amp;BatteryCha...</td>\n",
       "      <td>₹399</td>\n",
       "      <td>₹499</td>\n",
       "      <td>20%</td>\n",
       "      <td>4.3</td>\n",
       "      <td>27,201</td>\n",
       "      <td>Duracell Rechargeable AAA 750mAh batteries sta...</td>\n",
       "      <td>AG2ICOYPSOV5SGBKFEYHGKCNK7PA,AGJ3OQ4X262D3MAQZ...</td>\n",
       "      <td>T N Sivaji,Akku,V,Meet,MOHAMMED,Niranjan koyri...</td>\n",
       "      <td>R5L3FAFS6JXJF,R1VTQ25LXQX5UD,R6RJYAZUM5240,R1S...</td>\n",
       "      <td>Works Good,Perfect replacement cell for trimme...</td>\n",
       "      <td>Works good,Bought it to replace my Phillips QT...</td>\n",
       "      <td>https://m.media-amazon.com/images/I/418YrbHVLC...</td>\n",
       "      <td>https://www.amazon.in/Duracell-AAA-750mAh-Rech...</td>\n",
       "    </tr>\n",
       "    <tr>\n",
       "      <th>4</th>\n",
       "      <td>B003L62T7W</td>\n",
       "      <td>Logitech B100 Wired USB Mouse, 3 yr Warranty, ...</td>\n",
       "      <td>Computers&amp;Accessories|Accessories&amp;Peripherals|...</td>\n",
       "      <td>₹279</td>\n",
       "      <td>₹375</td>\n",
       "      <td>26%</td>\n",
       "      <td>4.3</td>\n",
       "      <td>31,534</td>\n",
       "      <td>A comfortable, ambidextrous shape feels good i...</td>\n",
       "      <td>AE6DY6YWTSSE3XNHDXZDGQM2JL2Q,AES3UPSNCD37JZLHZ...</td>\n",
       "      <td>Uday Joglekar,Simi Singh,Hi,chirag bansal,Swar...</td>\n",
       "      <td>R3U9FRV2Q625DO,R3EJZ83W9OHW3D,RSH53O0JL66NL,R3...</td>\n",
       "      <td>Handy Mouse,Good quality mouse,Good one.,Good,...</td>\n",
       "      <td>Liked this Product,https://m.media-amazon.com/...</td>\n",
       "      <td>https://m.media-amazon.com/images/I/31iFF1Kbkp...</td>\n",
       "      <td>https://www.amazon.in/Logitech-B100-Optical-Mo...</td>\n",
       "    </tr>\n",
       "  </tbody>\n",
       "</table>\n",
       "</div>"
      ],
      "text/plain": [
       "   product_id                                       product_name  \\\n",
       "0  B002PD61Y4  D-Link DWA-131 300 Mbps Wireless Nano USB Adap...   \n",
       "1  B002PD61Y4  D-Link DWA-131 300 Mbps Wireless Nano USB Adap...   \n",
       "2  B002SZEOLG  TP-Link Nano USB WiFi Dongle 150Mbps High Gain...   \n",
       "3  B003B00484  Duracell Plus AAA Rechargeable Batteries (750 ...   \n",
       "4  B003L62T7W  Logitech B100 Wired USB Mouse, 3 yr Warranty, ...   \n",
       "\n",
       "                                            category discounted_price  \\\n",
       "0  Computers&Accessories|NetworkingDevices|Networ...             ₹507   \n",
       "1  Computers&Accessories|NetworkingDevices|Networ...             ₹507   \n",
       "2  Computers&Accessories|NetworkingDevices|Networ...             ₹749   \n",
       "3  Electronics|GeneralPurposeBatteries&BatteryCha...             ₹399   \n",
       "4  Computers&Accessories|Accessories&Peripherals|...             ₹279   \n",
       "\n",
       "  actual_price discount_percentage rating rating_count  \\\n",
       "0       ₹1,208                 58%    4.1        8,131   \n",
       "1       ₹1,208                 58%    4.1        8,131   \n",
       "2       ₹1,339                 44%    4.2     1,79,692   \n",
       "3         ₹499                 20%    4.3       27,201   \n",
       "4         ₹375                 26%    4.3       31,534   \n",
       "\n",
       "                                       about_product  \\\n",
       "0  Connects your computer to a high-speed wireles...   \n",
       "1  Connects your computer to a high-speed wireles...   \n",
       "2  150 Mbps Wi-Fi —— Exceptional wireless speed u...   \n",
       "3  Duracell Rechargeable AAA 750mAh batteries sta...   \n",
       "4  A comfortable, ambidextrous shape feels good i...   \n",
       "\n",
       "                                             user_id  \\\n",
       "0  AGA2PZGWMQIRA46VYOTICFE7KCBA,AHI2QJ4CLTCQWACDI...   \n",
       "1  AGA2PZGWMQIRA46VYOTICFE7KCBA,AHI2QJ4CLTCQWACDI...   \n",
       "2  AGV3IEFANZCKECFGUM42MRH5FNOA,AEBO7NWCNXKT4AESA...   \n",
       "3  AG2ICOYPSOV5SGBKFEYHGKCNK7PA,AGJ3OQ4X262D3MAQZ...   \n",
       "4  AE6DY6YWTSSE3XNHDXZDGQM2JL2Q,AES3UPSNCD37JZLHZ...   \n",
       "\n",
       "                                           user_name  \\\n",
       "0  nilesh,EAGLE,Manoj KNS,Titus P.,Paras singla,a...   \n",
       "1  nilesh,EAGLE,Manoj KNS,Titus P.,Paras singla,a...   \n",
       "2  Azhar JuMan,Anirudh Sood,Hari Krishnan PS,Akas...   \n",
       "3  T N Sivaji,Akku,V,Meet,MOHAMMED,Niranjan koyri...   \n",
       "4  Uday Joglekar,Simi Singh,Hi,chirag bansal,Swar...   \n",
       "\n",
       "                                           review_id  \\\n",
       "0  R2EJIN3N3L3XKI,R2JMJ8QNG66LV4,R3B46JNPC2T4E7,R...   \n",
       "1  R2EJIN3N3L3XKI,R2JMJ8QNG66LV4,R3B46JNPC2T4E7,R...   \n",
       "2  R1LW6NWSVTVZ2H,R3VR5WFKUS15C5,R2F6GC79OYWUKQ,R...   \n",
       "3  R5L3FAFS6JXJF,R1VTQ25LXQX5UD,R6RJYAZUM5240,R1S...   \n",
       "4  R3U9FRV2Q625DO,R3EJZ83W9OHW3D,RSH53O0JL66NL,R3...   \n",
       "\n",
       "                                        review_title  \\\n",
       "0  good tool to use for,Brand is always good,Over...   \n",
       "1  good tool to use for,Brand is always good,Over...   \n",
       "2  Works on linux for me. Get the model with ante...   \n",
       "3  Works Good,Perfect replacement cell for trimme...   \n",
       "4  Handy Mouse,Good quality mouse,Good one.,Good,...   \n",
       "\n",
       "                                      review_content  \\\n",
       "0  good quality tool from d linkWiFi signal is go...   \n",
       "1  good quality tool from d linkWiFi signal is go...   \n",
       "2  I use this to connect an old PC to internet. I...   \n",
       "3  Works good,Bought it to replace my Phillips QT...   \n",
       "4  Liked this Product,https://m.media-amazon.com/...   \n",
       "\n",
       "                                            img_link  \\\n",
       "0  https://m.media-amazon.com/images/I/31+NwZ8gb1...   \n",
       "1  https://m.media-amazon.com/images/W/WEBP_40237...   \n",
       "2  https://m.media-amazon.com/images/I/31Wb+A3VVd...   \n",
       "3  https://m.media-amazon.com/images/I/418YrbHVLC...   \n",
       "4  https://m.media-amazon.com/images/I/31iFF1Kbkp...   \n",
       "\n",
       "                                        product_link  \n",
       "0  https://www.amazon.in/D-Link-DWA-131-Wireless-...  \n",
       "1  https://www.amazon.in/D-Link-DWA-131-Wireless-...  \n",
       "2  https://www.amazon.in/TP-Link-TL-WN722N-150Mbp...  \n",
       "3  https://www.amazon.in/Duracell-AAA-750mAh-Rech...  \n",
       "4  https://www.amazon.in/Logitech-B100-Optical-Mo...  "
      ]
     },
     "execution_count": 2,
     "metadata": {},
     "output_type": "execute_result"
    }
   ],
   "source": [
    "# Read the file and overview\n",
    "df = pd.read_csv('Amazon.csv')\n",
    "df.head()"
   ]
  },
  {
   "cell_type": "code",
   "execution_count": 3,
   "id": "13caf120-bbfe-4408-9f13-7db6c52773ca",
   "metadata": {
    "scrolled": true
   },
   "outputs": [
    {
     "name": "stdout",
     "output_type": "stream",
     "text": [
      "Removed 0 columns that were duplicated\n"
     ]
    }
   ],
   "source": [
    "# Find and remove duplicates\n",
    "is_duplicate = [d for d in df.duplicated() if d]\n",
    "df = df.drop_duplicates()\n",
    "print('Removed {} columns that were duplicated'.format(len(is_duplicate)))"
   ]
  },
  {
   "cell_type": "code",
   "execution_count": 4,
   "id": "729f02eb-2725-4902-9a89-8fd59ab76eb0",
   "metadata": {},
   "outputs": [
    {
     "name": "stdout",
     "output_type": "stream",
     "text": [
      "product_id             0\n",
      "product_name           0\n",
      "category               0\n",
      "discounted_price       0\n",
      "actual_price           0\n",
      "discount_percentage    0\n",
      "rating                 0\n",
      "rating_count           2\n",
      "about_product          0\n",
      "user_id                0\n",
      "user_name              0\n",
      "review_id              0\n",
      "review_title           0\n",
      "review_content         0\n",
      "img_link               0\n",
      "product_link           0\n",
      "dtype: int64\n"
     ]
    }
   ],
   "source": [
    "# Finding any NaN or null values, and dropping them\n",
    "print(df.isnull().sum())\n",
    "df = df.dropna()"
   ]
  },
  {
   "cell_type": "code",
   "execution_count": 5,
   "id": "bc5a269d-e3dd-4cd0-b11f-a16e0e71cc4f",
   "metadata": {},
   "outputs": [
    {
     "name": "stdout",
     "output_type": "stream",
     "text": [
      "{'8', '5', '6', '9', '3', '0', '7', '2', '1', '4'} {'₹'}\n",
      "{'8', '5', '6', '9', '3', '0', '7', '2', '1', '4'} {'₹'}\n"
     ]
    }
   ],
   "source": [
    "# Check if the price columns have the same currency\n",
    "print(set(df['actual_price'].str[-1]), set(df['actual_price'].str[0]))\n",
    "print(set(df['discounted_price'].str[-1]), set(df['discounted_price'].str[0]))\n"
   ]
  },
  {
   "cell_type": "code",
   "execution_count": 6,
   "id": "a5cbfaa2-35a1-4a9b-b63d-02133f339f69",
   "metadata": {},
   "outputs": [
    {
     "data": {
      "text/html": [
       "<div>\n",
       "<style scoped>\n",
       "    .dataframe tbody tr th:only-of-type {\n",
       "        vertical-align: middle;\n",
       "    }\n",
       "\n",
       "    .dataframe tbody tr th {\n",
       "        vertical-align: top;\n",
       "    }\n",
       "\n",
       "    .dataframe thead th {\n",
       "        text-align: right;\n",
       "    }\n",
       "</style>\n",
       "<table border=\"1\" class=\"dataframe\">\n",
       "  <thead>\n",
       "    <tr style=\"text-align: right;\">\n",
       "      <th></th>\n",
       "      <th>discounted_price</th>\n",
       "      <th>actual_price</th>\n",
       "    </tr>\n",
       "  </thead>\n",
       "  <tbody>\n",
       "    <tr>\n",
       "      <th>0</th>\n",
       "      <td>507.0</td>\n",
       "      <td>1208.0</td>\n",
       "    </tr>\n",
       "    <tr>\n",
       "      <th>1</th>\n",
       "      <td>507.0</td>\n",
       "      <td>1208.0</td>\n",
       "    </tr>\n",
       "    <tr>\n",
       "      <th>2</th>\n",
       "      <td>749.0</td>\n",
       "      <td>1339.0</td>\n",
       "    </tr>\n",
       "    <tr>\n",
       "      <th>3</th>\n",
       "      <td>399.0</td>\n",
       "      <td>499.0</td>\n",
       "    </tr>\n",
       "    <tr>\n",
       "      <th>4</th>\n",
       "      <td>279.0</td>\n",
       "      <td>375.0</td>\n",
       "    </tr>\n",
       "  </tbody>\n",
       "</table>\n",
       "</div>"
      ],
      "text/plain": [
       "   discounted_price  actual_price\n",
       "0             507.0        1208.0\n",
       "1             507.0        1208.0\n",
       "2             749.0        1339.0\n",
       "3             399.0         499.0\n",
       "4             279.0         375.0"
      ]
     },
     "execution_count": 6,
     "metadata": {},
     "output_type": "execute_result"
    }
   ],
   "source": [
    "# Since the prices are all in indian rupee(₹), there's no need to convert them\n",
    "# So we just need to trim the strings and convert them to proper types\n",
    "df['discounted_price'] = df['discounted_price'].apply(lambda x: x.replace('₹', '').replace(',','')).astype('float32')\n",
    "df['actual_price'] = df['actual_price'].apply(lambda x: x.replace('₹', '').replace(',','')).astype('float32')\n",
    "df[['discounted_price', 'actual_price']].head()"
   ]
  },
  {
   "cell_type": "code",
   "execution_count": 7,
   "id": "e3549f85-4036-4686-9289-41e8291fc86e",
   "metadata": {},
   "outputs": [
    {
     "data": {
      "text/plain": [
       "0    0.58\n",
       "1    0.58\n",
       "2    0.44\n",
       "3    0.20\n",
       "4    0.26\n",
       "Name: discount_percentage, dtype: float64"
      ]
     },
     "execution_count": 7,
     "metadata": {},
     "output_type": "execute_result"
    }
   ],
   "source": [
    "# Convert the X% discount to a better format\n",
    "df['discount_percentage'] = df['discount_percentage'].apply(lambda x: x.replace('%', '')).astype('float') / 100\n",
    "df['discount_percentage'].head()"
   ]
  },
  {
   "cell_type": "code",
   "execution_count": 8,
   "id": "cc9dd7ab-9d9b-4970-b03b-cb4020f84a91",
   "metadata": {
    "scrolled": true
   },
   "outputs": [],
   "source": [
    "# TRY to convert the ratings to proper types\n",
    "# df['rating'] = df['rating'].astype('float')"
   ]
  },
  {
   "cell_type": "markdown",
   "id": "615485e5-6935-458b-a774-28793b8bb7ec",
   "metadata": {},
   "source": [
    "But running that block gives an error, This error shows that there is at least 1 Non-Convertible value in the ratings, so we have to get rid of that row:"
   ]
  },
  {
   "cell_type": "code",
   "execution_count": 9,
   "id": "559e1043-de10-46e7-8e6d-9228801b3060",
   "metadata": {
    "scrolled": true
   },
   "outputs": [
    {
     "data": {
      "text/plain": [
       "rating\n",
       "4.1    244\n",
       "4.3    230\n",
       "4.2    228\n",
       "4      181\n",
       "4.4    123\n",
       "3.9    123\n",
       "3.8     86\n",
       "4.5     75\n",
       "3.7     42\n",
       "3.6     35\n",
       "3.5     26\n",
       "4.6     17\n",
       "3.3     16\n",
       "3.4     10\n",
       "4.7      6\n",
       "3.1      4\n",
       "3        3\n",
       "4.8      3\n",
       "3.2      2\n",
       "5        2\n",
       "2.8      2\n",
       "|        1\n",
       "2.6      1\n",
       "2.9      1\n",
       "2.3      1\n",
       "2        1\n",
       "Name: count, dtype: int64"
      ]
     },
     "execution_count": 9,
     "metadata": {},
     "output_type": "execute_result"
    }
   ],
   "source": [
    "df['rating'].value_counts()"
   ]
  },
  {
   "cell_type": "markdown",
   "id": "1df4cc30-76a6-4e65-9876-17ce7014c12d",
   "metadata": {},
   "source": [
    "This shows that the 1 row with value '|' as rating is the culprit, we'll find and drop it\n",
    "(also very interesting to notice that there are no 1 star reviews in this dataset)"
   ]
  },
  {
   "cell_type": "code",
   "execution_count": 10,
   "id": "84aa1cbd-30cf-4e38-995a-782eb5b02784",
   "metadata": {},
   "outputs": [
    {
     "data": {
      "text/plain": [
       "0    4.1\n",
       "1    4.1\n",
       "2    4.2\n",
       "3    4.3\n",
       "4    4.3\n",
       "Name: rating, dtype: float64"
      ]
     },
     "execution_count": 10,
     "metadata": {},
     "output_type": "execute_result"
    }
   ],
   "source": [
    "df = df.drop(df[df['rating'] == '|'].index)\n",
    "df['rating'] = df['rating'].astype('float')\n",
    "df['rating'].head()"
   ]
  },
  {
   "cell_type": "code",
   "execution_count": 11,
   "id": "add9a57f-1a28-4958-b3ec-422978833aec",
   "metadata": {
    "scrolled": true
   },
   "outputs": [
    {
     "data": {
      "text/plain": [
       "0      8131\n",
       "1      8131\n",
       "2    179692\n",
       "3     27201\n",
       "4     31534\n",
       "Name: rating_count, dtype: int32"
      ]
     },
     "execution_count": 11,
     "metadata": {},
     "output_type": "execute_result"
    }
   ],
   "source": [
    "# Changing rating_count data type\n",
    "df['rating_count'] = df['rating_count'].apply(lambda x: str(x).replace(',', '')).astype('int32')\n",
    "df['rating_count'].head()"
   ]
  },
  {
   "cell_type": "markdown",
   "id": "fd1fa303-5c8f-4f86-8e04-f651165c8fe7",
   "metadata": {},
   "source": [
    "We now have to separate the categories into top N categories for each product"
   ]
  },
  {
   "cell_type": "code",
   "execution_count": 12,
   "id": "08e63092-dc77-4735-8273-1d381281708b",
   "metadata": {
    "scrolled": true
   },
   "outputs": [
    {
     "data": {
      "text/html": [
       "<div>\n",
       "<style scoped>\n",
       "    .dataframe tbody tr th:only-of-type {\n",
       "        vertical-align: middle;\n",
       "    }\n",
       "\n",
       "    .dataframe tbody tr th {\n",
       "        vertical-align: top;\n",
       "    }\n",
       "\n",
       "    .dataframe thead th {\n",
       "        text-align: right;\n",
       "    }\n",
       "</style>\n",
       "<table border=\"1\" class=\"dataframe\">\n",
       "  <thead>\n",
       "    <tr style=\"text-align: right;\">\n",
       "      <th></th>\n",
       "      <th>0</th>\n",
       "      <th>1</th>\n",
       "      <th>2</th>\n",
       "      <th>3</th>\n",
       "      <th>4</th>\n",
       "      <th>5</th>\n",
       "      <th>6</th>\n",
       "    </tr>\n",
       "  </thead>\n",
       "  <tbody>\n",
       "    <tr>\n",
       "      <th>0</th>\n",
       "      <td>Computers&amp;Accessories</td>\n",
       "      <td>NetworkingDevices</td>\n",
       "      <td>NetworkAdapters</td>\n",
       "      <td>WirelessUSBAdapters</td>\n",
       "      <td>None</td>\n",
       "      <td>None</td>\n",
       "      <td>None</td>\n",
       "    </tr>\n",
       "    <tr>\n",
       "      <th>1</th>\n",
       "      <td>Computers&amp;Accessories</td>\n",
       "      <td>NetworkingDevices</td>\n",
       "      <td>NetworkAdapters</td>\n",
       "      <td>WirelessUSBAdapters</td>\n",
       "      <td>None</td>\n",
       "      <td>None</td>\n",
       "      <td>None</td>\n",
       "    </tr>\n",
       "    <tr>\n",
       "      <th>2</th>\n",
       "      <td>Computers&amp;Accessories</td>\n",
       "      <td>NetworkingDevices</td>\n",
       "      <td>NetworkAdapters</td>\n",
       "      <td>WirelessUSBAdapters</td>\n",
       "      <td>None</td>\n",
       "      <td>None</td>\n",
       "      <td>None</td>\n",
       "    </tr>\n",
       "    <tr>\n",
       "      <th>3</th>\n",
       "      <td>Electronics</td>\n",
       "      <td>GeneralPurposeBatteries&amp;BatteryChargers</td>\n",
       "      <td>RechargeableBatteries</td>\n",
       "      <td>None</td>\n",
       "      <td>None</td>\n",
       "      <td>None</td>\n",
       "      <td>None</td>\n",
       "    </tr>\n",
       "    <tr>\n",
       "      <th>4</th>\n",
       "      <td>Computers&amp;Accessories</td>\n",
       "      <td>Accessories&amp;Peripherals</td>\n",
       "      <td>Keyboards,Mice&amp;InputDevices</td>\n",
       "      <td>Mice</td>\n",
       "      <td>None</td>\n",
       "      <td>None</td>\n",
       "      <td>None</td>\n",
       "    </tr>\n",
       "  </tbody>\n",
       "</table>\n",
       "</div>"
      ],
      "text/plain": [
       "                       0                                        1  \\\n",
       "0  Computers&Accessories                        NetworkingDevices   \n",
       "1  Computers&Accessories                        NetworkingDevices   \n",
       "2  Computers&Accessories                        NetworkingDevices   \n",
       "3            Electronics  GeneralPurposeBatteries&BatteryChargers   \n",
       "4  Computers&Accessories                  Accessories&Peripherals   \n",
       "\n",
       "                             2                    3     4     5     6  \n",
       "0              NetworkAdapters  WirelessUSBAdapters  None  None  None  \n",
       "1              NetworkAdapters  WirelessUSBAdapters  None  None  None  \n",
       "2              NetworkAdapters  WirelessUSBAdapters  None  None  None  \n",
       "3        RechargeableBatteries                 None  None  None  None  \n",
       "4  Keyboards,Mice&InputDevices                 Mice  None  None  None  "
      ]
     },
     "execution_count": 12,
     "metadata": {},
     "output_type": "execute_result"
    }
   ],
   "source": [
    "# Separating categories into another dataframe\n",
    "categories = df['category'].str.split('|', expand=True)\n",
    "categories.head()"
   ]
  },
  {
   "cell_type": "code",
   "execution_count": 13,
   "id": "eaf83b6b-7b19-4bd6-89fb-3ad4be501093",
   "metadata": {},
   "outputs": [
    {
     "name": "stdout",
     "output_type": "stream",
     "text": [
      "3    778\n",
      "2    435\n",
      "4    157\n",
      "1     71\n",
      "0     13\n",
      "5      8\n",
      "Name: count, dtype: int64\n"
     ]
    }
   ],
   "source": [
    "# count the number of missing values in each row\n",
    "missing_counts = categories.isnull().sum(axis=1)\n",
    "print(missing_counts.value_counts())"
   ]
  },
  {
   "cell_type": "markdown",
   "id": "d90ff19a-0919-4baf-be37-aa512b7326e8",
   "metadata": {},
   "source": [
    "Since  only 8 of the products have less than 3 categories, we'll go with having top 3 categories per product"
   ]
  },
  {
   "cell_type": "code",
   "execution_count": 14,
   "id": "4356c087-00de-4ea5-958b-eb519dcf51a9",
   "metadata": {
    "scrolled": true
   },
   "outputs": [
    {
     "name": "stdout",
     "output_type": "stream",
     "text": [
      "Accessories: 2 Occurences\n"
     ]
    }
   ],
   "source": [
    "categories_list = []\n",
    "for i in range(3):\n",
    "    categories_list.extend([c for c in categories[i].unique() if c])\n",
    "for c in set(categories_list):\n",
    "    # Show duplicated categories accross multiple columns\n",
    "    if categories_list.count(c) > 1:\n",
    "        print('{}: {} Occurences'.format(c, categories_list.count(c)))"
   ]
  },
  {
   "cell_type": "markdown",
   "id": "bb80cdbb-c455-4199-b6f6-a7d1a657229f",
   "metadata": {},
   "source": [
    "This shows that \"Accessories\" Value was seen in 2 different columns, We'll have to make sure it's not in the same row"
   ]
  },
  {
   "cell_type": "code",
   "execution_count": 15,
   "id": "e33c0272-c026-41be-898e-abd2ce3a57ca",
   "metadata": {},
   "outputs": [
    {
     "data": {
      "text/html": [
       "<div>\n",
       "<style scoped>\n",
       "    .dataframe tbody tr th:only-of-type {\n",
       "        vertical-align: middle;\n",
       "    }\n",
       "\n",
       "    .dataframe tbody tr th {\n",
       "        vertical-align: top;\n",
       "    }\n",
       "\n",
       "    .dataframe thead th {\n",
       "        text-align: right;\n",
       "    }\n",
       "</style>\n",
       "<table border=\"1\" class=\"dataframe\">\n",
       "  <thead>\n",
       "    <tr style=\"text-align: right;\">\n",
       "      <th></th>\n",
       "      <th>0</th>\n",
       "      <th>1</th>\n",
       "      <th>2</th>\n",
       "      <th>3</th>\n",
       "      <th>4</th>\n",
       "      <th>5</th>\n",
       "      <th>6</th>\n",
       "    </tr>\n",
       "  </thead>\n",
       "  <tbody>\n",
       "  </tbody>\n",
       "</table>\n",
       "</div>"
      ],
      "text/plain": [
       "Empty DataFrame\n",
       "Columns: [0, 1, 2, 3, 4, 5, 6]\n",
       "Index: []"
      ]
     },
     "execution_count": 15,
     "metadata": {},
     "output_type": "execute_result"
    }
   ],
   "source": [
    "categories[(categories[1] == 'Accessories') & (categories[2] == 'Accessories')]\n",
    "# Returns empty, meaning there are no rows where two columns have the same value, we can proceeed:"
   ]
  },
  {
   "cell_type": "code",
   "execution_count": 16,
   "id": "4b08c5b0-dc66-47e9-b1c8-415b2a521ec8",
   "metadata": {},
   "outputs": [],
   "source": [
    "# Rename the columns \n",
    "categories = categories.rename(columns = {0: 'category_1', 1: 'category_2', 2: 'category_3'})\n",
    "# Replace the 'category' column with 3 category columns\n",
    "df['category_1'] = categories['category_1']\n",
    "df['category_2'] = categories['category_2']\n",
    "df['category_3'] = categories['category_3']\n",
    "df = df.drop(columns='category')"
   ]
  },
  {
   "cell_type": "code",
   "execution_count": 17,
   "id": "615bb044-3e7e-4db9-b84d-9d934b1cfd68",
   "metadata": {
    "scrolled": true
   },
   "outputs": [
    {
     "data": {
      "text/plain": [
       "['Computers&Accessories',\n",
       " 'Electronics',\n",
       " 'Home&Kitchen',\n",
       " 'OfficeProducts',\n",
       " 'Toys&Games',\n",
       " 'MusicalInstruments',\n",
       " 'Health&PersonalCare',\n",
       " 'HomeImprovement',\n",
       " 'Car&Motorbike',\n",
       " 'NetworkingDevices',\n",
       " 'GeneralPurposeBatteries&BatteryChargers',\n",
       " 'Accessories&Peripherals',\n",
       " 'ExternalDevices&DataStorage',\n",
       " 'HomeTheater,TV&Video',\n",
       " 'Kitchen&HomeAppliances',\n",
       " 'PowerAccessories',\n",
       " 'Heating,Cooling&AirQuality',\n",
       " 'OfficeElectronics',\n",
       " 'Arts&Crafts',\n",
       " 'OfficePaperProducts',\n",
       " 'CraftMaterials',\n",
       " 'Cameras&Photography',\n",
       " 'Headphones,Earbuds&Accessories',\n",
       " 'Mobiles&Accessories',\n",
       " 'Printers,Inks&Accessories',\n",
       " 'Kitchen&Dining',\n",
       " 'HomeStorage&Organization',\n",
       " 'HomeAudio',\n",
       " 'Microphones',\n",
       " 'HomeMedicalSupplies&Equipment',\n",
       " 'Accessories',\n",
       " 'Components',\n",
       " 'Electrical',\n",
       " 'WearableTechnology',\n",
       " 'Monitors',\n",
       " 'CarAccessories',\n",
       " 'Tablets',\n",
       " 'Laptops',\n",
       " 'NetworkAdapters',\n",
       " 'RechargeableBatteries',\n",
       " 'Keyboards,Mice&InputDevices',\n",
       " 'PenDrives',\n",
       " 'Accessories',\n",
       " 'SmallKitchenAppliances',\n",
       " 'SurgeProtectors',\n",
       " 'Routers',\n",
       " 'Cables&Accessories',\n",
       " 'Vacuum,Cleaning&Ironing',\n",
       " 'Coffee,Tea&Espresso',\n",
       " 'Audio&VideoAccessories',\n",
       " 'WaterPurifiers&Accessories',\n",
       " 'RoomHeaters',\n",
       " 'Repeaters&Extenders',\n",
       " 'WaterHeaters&Geysers',\n",
       " 'Calculators',\n",
       " 'LaptopAccessories',\n",
       " 'Drawing&PaintingSupplies',\n",
       " 'DisposableBatteries',\n",
       " 'Paper',\n",
       " 'Fans',\n",
       " 'PaintingMaterials',\n",
       " 'Scrapbooking',\n",
       " 'PCGamingPeripherals',\n",
       " 'HardDiskBags',\n",
       " 'USBGadgets',\n",
       " 'DrawingMaterials',\n",
       " 'Headphones',\n",
       " 'MobileAccessories',\n",
       " 'UninterruptedPowerSupplies',\n",
       " 'TabletAccessories',\n",
       " 'Parts&Accessories',\n",
       " 'Printers',\n",
       " 'AirPurifiers',\n",
       " 'KitchenTools',\n",
       " 'LaundryOrganization',\n",
       " 'Humidifiers',\n",
       " 'ExternalHardDisks',\n",
       " 'Televisions',\n",
       " 'SatelliteEquipment',\n",
       " 'Condenser',\n",
       " 'Speakers',\n",
       " 'HealthMonitors',\n",
       " 'MemoryCards',\n",
       " 'Cases',\n",
       " 'InternalSolidStateDrives',\n",
       " 'USBHubs',\n",
       " 'Inks,Toners&Cartridges',\n",
       " 'CordManagement',\n",
       " 'HardDriveAccessories',\n",
       " 'Smartphones&BasicMobiles',\n",
       " 'Adapters&Multi-Outlets',\n",
       " 'SecurityCameras',\n",
       " 'ExternalMemoryCardReaders',\n",
       " 'SmartWatches',\n",
       " 'SewingMachines&Accessories',\n",
       " 'Projectors',\n",
       " 'Adapters',\n",
       " 'Memory',\n",
       " 'VideoCameras',\n",
       " 'ExternalSolidStateDrives',\n",
       " 'DataCards&Dongles',\n",
       " 'Flashes',\n",
       " 'Earpads',\n",
       " 'InteriorAccessories',\n",
       " 'AVReceivers&Amplifiers',\n",
       " 'MediaStreamingDevices',\n",
       " 'AirConditioners',\n",
       " 'TraditionalLaptops',\n",
       " 'InternalHardDrives']"
      ]
     },
     "execution_count": 17,
     "metadata": {},
     "output_type": "execute_result"
    }
   ],
   "source": [
    "# Show the list of categories and proceed to edit and reformat their names:\n",
    "categories_list"
   ]
  },
  {
   "cell_type": "code",
   "execution_count": 18,
   "id": "f084474d-753e-44ef-af19-c151747e2448",
   "metadata": {
    "jupyter": {
     "source_hidden": true
    }
   },
   "outputs": [],
   "source": [
    "category_rename_dict = {'&': ' and ', ',': ', ', 'OfficeProducts': 'Office Products', 'MusicalInstruments': 'Musical Instruments', 'HomeImprovement': 'Home Improvement',\n",
    "                       'NetworkingDevices': 'Networking Devices', 'GeneralPurposeBatteries': 'General Purpose Batteries', 'BatteryChargers': 'Battery Chargers',\n",
    "                        'ExternalDevices': 'External Devices', 'DataStorage': 'Data Storage', 'HomeTheater': 'Home Theater', 'HomeAppliances': 'Home Appliances',\n",
    "                        'PowerAccessories': 'Power Accessories', 'AirQuality': 'Air Quality', 'OfficeElectronics': 'Office Electronics', 'OfficePaperProducts': 'Office Paper Products',\n",
    "                        'CraftMaterials': 'Craft Materials', 'HomeStorage': 'Home Storage', 'HomeMedicalSupplies': 'Home Medical Supplies', 'WearableTechnology': 'Wearable Technology',\n",
    "                       'CarAccessories': 'Car Accessories', 'NetworkAdapters': 'Network Adapters', 'RechargeableBatteries': 'Rechargeable Batteries', 'InputDevices': 'Input Devices',\n",
    "                       'PenDrives': 'Pen Drives', 'SmallKitchenAppliances': 'Small Kitchen Appliances', 'SurgeProtectors': 'Surge Protectors', 'VideoAccessories': 'Video Accessories',\n",
    "                        'WaterPurifiers': 'Water Purifiers', 'RoomHeaters': 'Room Heaters', 'WaterHeaters': 'Water Heaters', 'PaintingSupplies': 'Painting Supplies',\n",
    "                        'DisposableBatteries': 'Disposable Batteries', 'PaintingMaterials': 'Painting Materials', 'PCGamingPeripherals': 'PC Gaming Peripherals', 'HardDiskBags': 'HardDisk Bags',\n",
    "                        'USBGadgets': 'USB Gadgets', 'DrawingMaterials': 'Drawing Materials', 'TabletAccessories': 'Tablet Accessories', 'UninterruptedPowerSupplies': 'Uninterrupted Power Supplies',\n",
    "                        'KitchenTools': 'Kitchen Tools', 'LaundryOrganization': 'Laundry Organization', 'MobileAccessories': 'Mobile Accessories', 'AirPurifiers': 'Air Purifiers',\n",
    "                        'ExternalHardDisks': 'External HardDisks', 'SatelliteEquipment': 'Satellite Equipment', 'HealthMonitors': 'Health Monitors', 'MemoryCards': 'Memory Cards',\n",
    "                        'InternalSolidStateDrives': 'Internal SSD', 'USBHubs': 'USB Hubs', 'CordManagement': 'Cord Management', 'HardDriveAccessories': 'HardDrive Accessories',\n",
    "                        'BasicMobiles': 'Basic Mobiles', 'SecurityCameras': 'Security Cameras', 'ExternalMemoryCardReaders': 'External MemoryCard Readers', 'SmartWatches': 'Smart Watches',\n",
    "                        'SewingMachines': 'Sewing Machines', 'VideoCameras': 'Video Cameras', 'ExternalSolidStateDrives': 'External SSD', 'DataCards': 'Data Cards',\n",
    "                        'InteriorAccessories': 'Interior Accessories', 'MediaStreamingDevices': 'Media Streaming Devices', 'AirConditioners': 'Air Conditioners',\n",
    "                       'TraditionalLaptops': 'Traditional Laptops', 'InternalHardDrives': 'Internal HardDrives'}"
   ]
  },
  {
   "cell_type": "code",
   "execution_count": 19,
   "id": "4774b067-ff68-4641-b72f-e62deb01573b",
   "metadata": {},
   "outputs": [
    {
     "data": {
      "text/html": [
       "<div>\n",
       "<style scoped>\n",
       "    .dataframe tbody tr th:only-of-type {\n",
       "        vertical-align: middle;\n",
       "    }\n",
       "\n",
       "    .dataframe tbody tr th {\n",
       "        vertical-align: top;\n",
       "    }\n",
       "\n",
       "    .dataframe thead th {\n",
       "        text-align: right;\n",
       "    }\n",
       "</style>\n",
       "<table border=\"1\" class=\"dataframe\">\n",
       "  <thead>\n",
       "    <tr style=\"text-align: right;\">\n",
       "      <th></th>\n",
       "      <th>category_1</th>\n",
       "      <th>category_2</th>\n",
       "      <th>category_3</th>\n",
       "    </tr>\n",
       "  </thead>\n",
       "  <tbody>\n",
       "    <tr>\n",
       "      <th>0</th>\n",
       "      <td>Computers and Accessories</td>\n",
       "      <td>Networking Devices</td>\n",
       "      <td>Network Adapters</td>\n",
       "    </tr>\n",
       "    <tr>\n",
       "      <th>1</th>\n",
       "      <td>Computers and Accessories</td>\n",
       "      <td>Networking Devices</td>\n",
       "      <td>Network Adapters</td>\n",
       "    </tr>\n",
       "    <tr>\n",
       "      <th>2</th>\n",
       "      <td>Computers and Accessories</td>\n",
       "      <td>Networking Devices</td>\n",
       "      <td>Network Adapters</td>\n",
       "    </tr>\n",
       "    <tr>\n",
       "      <th>3</th>\n",
       "      <td>Electronics</td>\n",
       "      <td>General Purpose Batteries and Battery Chargers</td>\n",
       "      <td>Rechargeable Batteries</td>\n",
       "    </tr>\n",
       "    <tr>\n",
       "      <th>4</th>\n",
       "      <td>Computers and Accessories</td>\n",
       "      <td>Accessories and Peripherals</td>\n",
       "      <td>Keyboards, Mice and Input Devices</td>\n",
       "    </tr>\n",
       "  </tbody>\n",
       "</table>\n",
       "</div>"
      ],
      "text/plain": [
       "                  category_1                                      category_2  \\\n",
       "0  Computers and Accessories                              Networking Devices   \n",
       "1  Computers and Accessories                              Networking Devices   \n",
       "2  Computers and Accessories                              Networking Devices   \n",
       "3                Electronics  General Purpose Batteries and Battery Chargers   \n",
       "4  Computers and Accessories                     Accessories and Peripherals   \n",
       "\n",
       "                          category_3  \n",
       "0                   Network Adapters  \n",
       "1                   Network Adapters  \n",
       "2                   Network Adapters  \n",
       "3             Rechargeable Batteries  \n",
       "4  Keyboards, Mice and Input Devices  "
      ]
     },
     "execution_count": 19,
     "metadata": {},
     "output_type": "execute_result"
    }
   ],
   "source": [
    "for k, v in category_rename_dict.items():\n",
    "    df['category_1'] = df['category_1'].apply(lambda x: x.replace(k, v) if x else x)\n",
    "    df['category_2'] = df['category_2'].apply(lambda x: x.replace(k, v) if x else x)\n",
    "    df['category_3'] = df['category_3'].apply(lambda x: x.replace(k, v) if x else x)\n",
    "df[['category_1', 'category_2', 'category_3']].head()\n"
   ]
  },
  {
   "cell_type": "markdown",
   "id": "78aab02f-a9dc-46e5-8e28-116064588571",
   "metadata": {},
   "source": [
    "Now we can use this data for other purposes"
   ]
  },
  {
   "cell_type": "code",
   "execution_count": 20,
   "id": "608dbfa2-1642-42fb-afa8-a28da8fb84c1",
   "metadata": {},
   "outputs": [],
   "source": [
    "# Exporting the prepared data\n",
    "df.to_csv('Amazon-Clean.csv')"
   ]
  }
 ],
 "metadata": {
  "kernelspec": {
   "display_name": "Python 3 (ipykernel)",
   "language": "python",
   "name": "python3"
  },
  "language_info": {
   "codemirror_mode": {
    "name": "ipython",
    "version": 3
   },
   "file_extension": ".py",
   "mimetype": "text/x-python",
   "name": "python",
   "nbconvert_exporter": "python",
   "pygments_lexer": "ipython3",
   "version": "3.9.7"
  }
 },
 "nbformat": 4,
 "nbformat_minor": 5
}
